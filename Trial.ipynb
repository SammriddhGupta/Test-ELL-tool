{
 "cells": [
  {
   "cell_type": "code",
   "execution_count": 1,
   "id": "66a658c3-1288-45ce-a44c-15e9bcd448a7",
   "metadata": {},
   "outputs": [
    {
     "name": "stdout",
     "output_type": "stream",
     "text": [
      "Requirement already satisfied: pandas in /Users/sammriddhgupta/anaconda3/envs/LangChainEnv/lib/python3.11/site-packages (2.2.2)\n",
      "Requirement already satisfied: numpy>=1.23.2 in /Users/sammriddhgupta/anaconda3/envs/LangChainEnv/lib/python3.11/site-packages (from pandas) (1.26.4)\n",
      "Requirement already satisfied: python-dateutil>=2.8.2 in /Users/sammriddhgupta/anaconda3/envs/LangChainEnv/lib/python3.11/site-packages (from pandas) (2.9.0.post0)\n",
      "Requirement already satisfied: pytz>=2020.1 in /Users/sammriddhgupta/anaconda3/envs/LangChainEnv/lib/python3.11/site-packages (from pandas) (2024.1)\n",
      "Requirement already satisfied: tzdata>=2022.7 in /Users/sammriddhgupta/anaconda3/envs/LangChainEnv/lib/python3.11/site-packages (from pandas) (2024.1)\n",
      "Requirement already satisfied: six>=1.5 in /Users/sammriddhgupta/anaconda3/envs/LangChainEnv/lib/python3.11/site-packages (from python-dateutil>=2.8.2->pandas) (1.16.0)\n"
     ]
    }
   ],
   "source": [
    "!pip install pandas"
   ]
  },
  {
   "cell_type": "code",
   "execution_count": 2,
   "id": "39946a9d-957a-4452-b30d-e06c357b17ad",
   "metadata": {},
   "outputs": [],
   "source": [
    "import pandas as pd\n",
    "import json"
   ]
  },
  {
   "cell_type": "code",
   "execution_count": 3,
   "id": "1cb94eb2-0f46-4d12-aec8-696b9383cc82",
   "metadata": {},
   "outputs": [],
   "source": [
    "with open('word-bank.txt') as f:\n",
    "    word_bank = {line.split()[0].lower(): int(line.split()[1]) for line in f.readlines()}"
   ]
  },
  {
   "cell_type": "code",
   "execution_count": 4,
   "id": "fefe2095-05ce-4a92-98db-4152d90b2044",
   "metadata": {},
   "outputs": [
    {
     "data": {
      "text/plain": [
       "{'ability': 1,\n",
       " 'actually': 1,\n",
       " 'accommodating': 2,\n",
       " 'admirable': 3,\n",
       " 'amplification': 4}"
      ]
     },
     "execution_count": 4,
     "metadata": {},
     "output_type": "execute_result"
    }
   ],
   "source": [
    "word_bank"
   ]
  },
  {
   "cell_type": "code",
   "execution_count": 5,
   "id": "55f72953-7d85-49ee-95f8-f4d98ecee7d3",
   "metadata": {},
   "outputs": [],
   "source": [
    "df_questions = pd.read_csv('question-list.csv')"
   ]
  },
  {
   "cell_type": "code",
   "execution_count": 6,
   "id": "71feefc6-ff9b-4c7d-b5aa-9c665c7f5688",
   "metadata": {},
   "outputs": [
    {
     "data": {
      "text/html": [
       "<div>\n",
       "<style scoped>\n",
       "    .dataframe tbody tr th:only-of-type {\n",
       "        vertical-align: middle;\n",
       "    }\n",
       "\n",
       "    .dataframe tbody tr th {\n",
       "        vertical-align: top;\n",
       "    }\n",
       "\n",
       "    .dataframe thead th {\n",
       "        text-align: right;\n",
       "    }\n",
       "</style>\n",
       "<table border=\"1\" class=\"dataframe\">\n",
       "  <thead>\n",
       "    <tr style=\"text-align: right;\">\n",
       "      <th></th>\n",
       "      <th>qn_id</th>\n",
       "      <th>qn_text</th>\n",
       "      <th>type</th>\n",
       "      <th>level</th>\n",
       "      <th>type.1</th>\n",
       "      <th>response_type</th>\n",
       "      <th>tags</th>\n",
       "      <th>instructions</th>\n",
       "      <th>hints</th>\n",
       "      <th>answer</th>\n",
       "    </tr>\n",
       "  </thead>\n",
       "  <tbody>\n",
       "    <tr>\n",
       "      <th>0</th>\n",
       "      <td>1.0</td>\n",
       "      <td>Fill in the blank with an appropriate article:...</td>\n",
       "      <td>fill</td>\n",
       "      <td>1.0</td>\n",
       "      <td>Grammar</td>\n",
       "      <td>FIB</td>\n",
       "      <td>Articles</td>\n",
       "      <td>Fill in the blank with 'a', 'an', or 'the'.</td>\n",
       "      <td>Use 'an' before vowel sounds.</td>\n",
       "      <td>She is a teacher.</td>\n",
       "    </tr>\n",
       "    <tr>\n",
       "      <th>1</th>\n",
       "      <td>2.0</td>\n",
       "      <td>Fill in the blanks with the correct form of th...</td>\n",
       "      <td>fill</td>\n",
       "      <td>2.0</td>\n",
       "      <td>Grammar</td>\n",
       "      <td>FIB</td>\n",
       "      <td>Verb Conjugation</td>\n",
       "      <td>Complete the sentence using the correct form o...</td>\n",
       "      <td>Think about the subject-verb agreement.</td>\n",
       "      <td>He is happy.\\n\\n</td>\n",
       "    </tr>\n",
       "    <tr>\n",
       "      <th>2</th>\n",
       "      <td>3.0</td>\n",
       "      <td>Convert the sentence from active to passive vo...</td>\n",
       "      <td>generate</td>\n",
       "      <td>4.0</td>\n",
       "      <td>Syntax</td>\n",
       "      <td>Short answer</td>\n",
       "      <td>Passive Voice</td>\n",
       "      <td>Rewrite the sentence in the passive voice.</td>\n",
       "      <td>Identify the object and make it the subject.</td>\n",
       "      <td>Her students were inspired to think critically...</td>\n",
       "    </tr>\n",
       "    <tr>\n",
       "      <th>3</th>\n",
       "      <td>4.0</td>\n",
       "      <td>Make the sentence polite: Close the door.</td>\n",
       "      <td>Generate</td>\n",
       "      <td>3.0</td>\n",
       "      <td>Syntax</td>\n",
       "      <td>Short answer</td>\n",
       "      <td>Politeness</td>\n",
       "      <td>Rewrite the sentence in a polite manner.</td>\n",
       "      <td>Use 'please' and formal language.\\n\\n</td>\n",
       "      <td>Please close the door.</td>\n",
       "    </tr>\n",
       "    <tr>\n",
       "      <th>4</th>\n",
       "      <td>NaN</td>\n",
       "      <td>NaN</td>\n",
       "      <td>NaN</td>\n",
       "      <td>NaN</td>\n",
       "      <td>NaN</td>\n",
       "      <td>NaN</td>\n",
       "      <td>NaN</td>\n",
       "      <td>NaN</td>\n",
       "      <td>NaN</td>\n",
       "      <td>\\n</td>\n",
       "    </tr>\n",
       "  </tbody>\n",
       "</table>\n",
       "</div>"
      ],
      "text/plain": [
       "   qn_id                                            qn_text      type  level  \\\n",
       "0    1.0  Fill in the blank with an appropriate article:...      fill    1.0   \n",
       "1    2.0  Fill in the blanks with the correct form of th...      fill    2.0   \n",
       "2    3.0  Convert the sentence from active to passive vo...  generate    4.0   \n",
       "3    4.0          Make the sentence polite: Close the door.  Generate    3.0   \n",
       "4    NaN                                                NaN       NaN    NaN   \n",
       "\n",
       "    type.1 response_type              tags  \\\n",
       "0  Grammar           FIB          Articles   \n",
       "1  Grammar           FIB  Verb Conjugation   \n",
       "2   Syntax  Short answer     Passive Voice   \n",
       "3   Syntax  Short answer        Politeness   \n",
       "4      NaN           NaN               NaN   \n",
       "\n",
       "                                        instructions  \\\n",
       "0        Fill in the blank with 'a', 'an', or 'the'.   \n",
       "1  Complete the sentence using the correct form o...   \n",
       "2         Rewrite the sentence in the passive voice.   \n",
       "3           Rewrite the sentence in a polite manner.   \n",
       "4                                                NaN   \n",
       "\n",
       "                                          hints  \\\n",
       "0                 Use 'an' before vowel sounds.   \n",
       "1       Think about the subject-verb agreement.   \n",
       "2  Identify the object and make it the subject.   \n",
       "3         Use 'please' and formal language.\\n\\n   \n",
       "4                                           NaN   \n",
       "\n",
       "                                              answer  \n",
       "0                                  She is a teacher.  \n",
       "1                                   He is happy.\\n\\n  \n",
       "2  Her students were inspired to think critically...  \n",
       "3                             Please close the door.  \n",
       "4                                                 \\n  "
      ]
     },
     "execution_count": 6,
     "metadata": {},
     "output_type": "execute_result"
    }
   ],
   "source": [
    "df_questions"
   ]
  },
  {
   "cell_type": "code",
   "execution_count": 7,
   "id": "c71ec6f1-2f1e-4c8f-954e-3af62217b219",
   "metadata": {},
   "outputs": [
    {
     "name": "stdout",
     "output_type": "stream",
     "text": [
      "Assigned Level: 3\n",
      "\n",
      "\n"
     ]
    }
   ],
   "source": [
    "def assign_level(sentence):\n",
    "    words = sentence.split()\n",
    "    levels = [word_bank.get(word.lower(), 1) for word in words]\n",
    "    return max(levels)\n",
    "\n",
    "\n",
    "def get_questions(level):\n",
    "    return df_questions[df_questions['level'] <= level]\n",
    "\n",
    "student_text = \"His admirable attitude is amazing\"\n",
    "student_level = assign_level(student_text)\n",
    "questions = get_questions(student_level)\n",
    "\n",
    "print(f\"Assigned Level: {student_level}\\n\\n\")"
   ]
  },
  {
   "cell_type": "code",
   "execution_count": 8,
   "id": "2850c704-4c9e-466c-8630-04d5eb73581b",
   "metadata": {},
   "outputs": [
    {
     "name": "stdin",
     "output_type": "stream",
     "text": [
      "Please enter a sentence:  He was very accommodating of my injuries\n"
     ]
    },
    {
     "name": "stdout",
     "output_type": "stream",
     "text": [
      "You are at level 2.\n",
      "\n",
      "Here are some exercises to help you improve your level:\n",
      "\n",
      "Fill in the blanks: Fill in the blank with an appropriate article: She is ___ teacher.\n"
     ]
    },
    {
     "name": "stdin",
     "output_type": "stream",
     "text": [
      "Type in your answer:  a\n"
     ]
    },
    {
     "name": "stdout",
     "output_type": "stream",
     "text": [
      "Your answer: a\n",
      "Correct answer: She is a teacher.\n",
      "\n",
      "Fill in the blanks: Fill in the blanks with the correct form of the verb (to be): He ___ happy.\n"
     ]
    },
    {
     "name": "stdin",
     "output_type": "stream",
     "text": [
      "Type in your answer:  is\n"
     ]
    },
    {
     "name": "stdout",
     "output_type": "stream",
     "text": [
      "Your answer: is\n",
      "Correct answer: He is happy.\n",
      "\n",
      "\n",
      "\n"
     ]
    },
    {
     "name": "stdin",
     "output_type": "stream",
     "text": [
      "Would you like to enter another sentence? (yes/no):  no\n"
     ]
    },
    {
     "name": "stdout",
     "output_type": "stream",
     "text": [
      "Thank you for using the English learning tool!\n"
     ]
    }
   ],
   "source": [
    "def assign_level(sentence):\n",
    "    words = sentence.split()\n",
    "    levels = [word_bank.get(word.lower(), 1) for word in words]\n",
    "    return max(levels)\n",
    "\n",
    "def get_questions(level):\n",
    "    return df_questions[df_questions['level'] <= level]\n",
    "\n",
    "def perform_exercise(row):\n",
    "    if row['type'] == 'fill':\n",
    "        print(f\"Fill in the blanks: {row['qn_text']}\")\n",
    "        user_response = input(\"Type in your answer: \")\n",
    "        print(f\"Your answer: {user_response}\")\n",
    "        print(\"Correct answer:\", row.get('answer', 'N/A'))\n",
    "    elif row['type'] == 'generate':\n",
    "        print(f\"Correct this sentence: {row['qn_text']}\")\n",
    "        user_response = input(\"Type in your correction: \")\n",
    "        print(f\"Your correction: {user_response}\")\n",
    "        print(\"Correct answer:\", row.get('answer', 'N/A'))\n",
    "    else:\n",
    "        print(f\"Question: {row['qn_text']}\")\n",
    "        print(\"Please follow the instructions above to complete this exercise.\")\n",
    "    print()\n",
    "\n",
    "while True:\n",
    "    user_input = input(\"Please enter a sentence: \")\n",
    "    user_level = assign_level(user_input)\n",
    "    print(f\"You are at level {user_level}.\\n\")\n",
    "    exercises = get_questions(user_level)\n",
    "    print(\"Here are some exercises to help you improve your level:\\n\")\n",
    "    for index, row in exercises.iterrows():\n",
    "        perform_exercise(row)\n",
    "    \n",
    "    continue_prompt = input(\"Would you like to enter another sentence? (yes/no): \")\n",
    "    if continue_prompt.lower() != 'yes':\n",
    "        break\n",
    "\n",
    "print(\"Thank you for using the English learning tool!\")"
   ]
  },
  {
   "cell_type": "code",
   "execution_count": null,
   "id": "82282c7c-9f45-407b-98f1-f8925f543ecb",
   "metadata": {},
   "outputs": [],
   "source": []
  }
 ],
 "metadata": {
  "kernelspec": {
   "display_name": "Python [conda env:LangChainEnv] *",
   "language": "python",
   "name": "conda-env-LangChainEnv-py"
  },
  "language_info": {
   "codemirror_mode": {
    "name": "ipython",
    "version": 3
   },
   "file_extension": ".py",
   "mimetype": "text/x-python",
   "name": "python",
   "nbconvert_exporter": "python",
   "pygments_lexer": "ipython3",
   "version": "3.11.9"
  }
 },
 "nbformat": 4,
 "nbformat_minor": 5
}
